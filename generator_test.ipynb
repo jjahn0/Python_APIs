{
 "cells": [
  {
   "cell_type": "code",
   "execution_count": 1,
   "metadata": {},
   "outputs": [],
   "source": [
    "import random as rd\n",
    "import numpy as np"
   ]
  },
  {
   "cell_type": "code",
   "execution_count": 4,
   "metadata": {},
   "outputs": [],
   "source": [
    "lat_lng_ranges = [[(-60,-40),(-80,-60),(160,180)],\n",
    "                   [(-40,-20),(-80,-40),(10,50),(110,180)],\n",
    "                   [(-20,0),(-80,-30),(10,50),(110,170)],\n",
    "                   [(0,20),(-80,-30),(-20,60),(70,130)],\n",
    "                   [(20,40),(-130,-70),(-20,70),(70,150)],\n",
    "                   [(40,60),(-180,-150),(-140,-50),(-10,170)],\n",
    "                   [(60,80),(-180,0),(0,180)]]\n",
    "\n",
    "lat_long_list = []\n",
    "\n",
    "def random_cords (sample_number):\n",
    "    while len(lat_long_list) < 1000:\n",
    "        for ln in lat_lng_ranges:\n",
    "            for i in range(1,len(ln)):\n",
    "                lat_long_list.append( [rd.randint(ln[0][0],ln[0][1]), rd.randint(ln[i][0],ln[i][1])] )\n",
    "    cords = rd.sample(lat_long_list,sample_number)\n",
    "    return cords"
   ]
  },
  {
   "cell_type": "code",
   "execution_count": 6,
   "metadata": {},
   "outputs": [
    {
     "data": {
      "text/plain": [
       "[[-22, 114],\n",
       " [23, 139],\n",
       " [74, -56],\n",
       " [-11, 149],\n",
       " [10, 21],\n",
       " [-41, 171],\n",
       " [-9, 138],\n",
       " [-14, -67],\n",
       " [34, -18],\n",
       " [-10, 111]]"
      ]
     },
     "execution_count": 6,
     "metadata": {},
     "output_type": "execute_result"
    }
   ],
   "source": [
    "random_cords(10)"
   ]
  },
  {
   "cell_type": "code",
   "execution_count": null,
   "metadata": {},
   "outputs": [],
   "source": []
  }
 ],
 "metadata": {
  "kernelspec": {
   "display_name": "Python (pythondata)",
   "language": "python",
   "name": "pythondata"
  },
  "language_info": {
   "codemirror_mode": {
    "name": "ipython",
    "version": 3
   },
   "file_extension": ".py",
   "mimetype": "text/x-python",
   "name": "python",
   "nbconvert_exporter": "python",
   "pygments_lexer": "ipython3",
   "version": "3.4.5"
  }
 },
 "nbformat": 4,
 "nbformat_minor": 2
}
