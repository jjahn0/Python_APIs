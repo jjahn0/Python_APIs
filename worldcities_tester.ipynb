{
 "cells": [
  {
   "cell_type": "code",
   "execution_count": 2,
   "metadata": {},
   "outputs": [],
   "source": [
    "import csv\n",
    "import pandas as pd\n",
    "import numpy as np\n",
    "import os\n",
    "import random as rd"
   ]
  },
  {
   "cell_type": "code",
   "execution_count": 3,
   "metadata": {},
   "outputs": [],
   "source": [
    "file = os.path.join('Resources','worldcities.csv')\n",
    "data = pd.read_csv(file)"
   ]
  },
  {
   "cell_type": "code",
   "execution_count": 5,
   "metadata": {},
   "outputs": [
    {
     "data": {
      "text/html": [
       "<div>\n",
       "<table border=\"1\" class=\"dataframe\">\n",
       "  <thead>\n",
       "    <tr style=\"text-align: right;\">\n",
       "      <th></th>\n",
       "      <th>id</th>\n",
       "      <th>nm</th>\n",
       "      <th>lat</th>\n",
       "      <th>lon</th>\n",
       "      <th>countryCode</th>\n",
       "    </tr>\n",
       "  </thead>\n",
       "  <tbody>\n",
       "    <tr>\n",
       "      <th>0</th>\n",
       "      <td>819827</td>\n",
       "      <td>Razvilka</td>\n",
       "      <td>55.591667</td>\n",
       "      <td>37.740833</td>\n",
       "      <td>RU</td>\n",
       "    </tr>\n",
       "    <tr>\n",
       "      <th>1</th>\n",
       "      <td>524901</td>\n",
       "      <td>Moscow</td>\n",
       "      <td>55.752220</td>\n",
       "      <td>37.615555</td>\n",
       "      <td>RU</td>\n",
       "    </tr>\n",
       "    <tr>\n",
       "      <th>2</th>\n",
       "      <td>1271881</td>\n",
       "      <td>Firozpur Jhirka</td>\n",
       "      <td>27.799999</td>\n",
       "      <td>76.949997</td>\n",
       "      <td>IN</td>\n",
       "    </tr>\n",
       "    <tr>\n",
       "      <th>3</th>\n",
       "      <td>1283240</td>\n",
       "      <td>Kathmandu</td>\n",
       "      <td>27.716667</td>\n",
       "      <td>85.316666</td>\n",
       "      <td>NP</td>\n",
       "    </tr>\n",
       "    <tr>\n",
       "      <th>4</th>\n",
       "      <td>703448</td>\n",
       "      <td>Kiev</td>\n",
       "      <td>50.433334</td>\n",
       "      <td>30.516666</td>\n",
       "      <td>UA</td>\n",
       "    </tr>\n",
       "  </tbody>\n",
       "</table>\n",
       "</div>"
      ],
      "text/plain": [
       "        id               nm        lat        lon countryCode\n",
       "0   819827         Razvilka  55.591667  37.740833          RU\n",
       "1   524901           Moscow  55.752220  37.615555          RU\n",
       "2  1271881  Firozpur Jhirka  27.799999  76.949997          IN\n",
       "3  1283240        Kathmandu  27.716667  85.316666          NP\n",
       "4   703448             Kiev  50.433334  30.516666          UA"
      ]
     },
     "execution_count": 5,
     "metadata": {},
     "output_type": "execute_result"
    }
   ],
   "source": [
    "file = os.path.join('Resources','owm_citylist.txt')\n",
    "owm_df = pd.read_csv(file, delimiter='\\t')\n",
    "owm_df.head()"
   ]
  },
  {
   "cell_type": "code",
   "execution_count": 52,
   "metadata": {},
   "outputs": [],
   "source": [
    "# >>> df = pd.DataFrame(columns=['A'])\n",
    "# >>> for i in range(5):\n",
    "# ...     df = df.append({'A': i}, ignore_index=True)\n",
    "# >>> df\n",
    "\n",
    "def lat_random_select(number):\n",
    "    range_num = int(number/7)\n",
    "    id_list = []\n",
    "    column_names = list(owm_df.columns)\n",
    "    id_df = pd.DataFrame(columns=column_names)\n",
    "    lat = np.arange(-60,100,20)\n",
    "    for deg in range(1,len(lat)):\n",
    "        range_ls = list(owm_df.loc[(owm_df['lat'] > lat[deg-1]) & (owm_df['lat'] <= lat[deg]),:]['id'])\n",
    "        selections = rd.sample(range_ls, range_num)\n",
    "        id_list = id_list + selections\n",
    "#         for i in id_list:\n",
    "#             i_owm = owm_df.loc[owm_df['id'] == i]\n",
    "#             id_df.append(i_owm, ignore_index=True)\n",
    "#         return id_df\n",
    "    return id_list"
   ]
  },
  {
   "cell_type": "code",
   "execution_count": 45,
   "metadata": {},
   "outputs": [
    {
     "data": {
      "text/html": [
       "<div>\n",
       "<table border=\"1\" class=\"dataframe\">\n",
       "  <thead>\n",
       "    <tr style=\"text-align: right;\">\n",
       "      <th></th>\n",
       "      <th>id</th>\n",
       "      <th>nm</th>\n",
       "      <th>lat</th>\n",
       "      <th>lon</th>\n",
       "      <th>countryCode</th>\n",
       "    </tr>\n",
       "  </thead>\n",
       "  <tbody>\n",
       "    <tr>\n",
       "      <th>0</th>\n",
       "      <td>703448.0</td>\n",
       "      <td>Kiev</td>\n",
       "      <td>50.433334</td>\n",
       "      <td>30.516666</td>\n",
       "      <td>UA</td>\n",
       "    </tr>\n",
       "  </tbody>\n",
       "</table>\n",
       "</div>"
      ],
      "text/plain": [
       "         id    nm        lat        lon countryCode\n",
       "0  703448.0  Kiev  50.433334  30.516666          UA"
      ]
     },
     "execution_count": 45,
     "metadata": {},
     "output_type": "execute_result"
    }
   ],
   "source": []
  },
  {
   "cell_type": "code",
   "execution_count": 70,
   "metadata": {},
   "outputs": [
    {
     "data": {
      "text/plain": [
       "[3883629, 3865742, 3930871, 1337610, 4733313, 2737914, 3146470]"
      ]
     },
     "execution_count": 70,
     "metadata": {},
     "output_type": "execute_result"
    }
   ],
   "source": [
    "ls = lat_random_select(10)\n",
    "ls"
   ]
  },
  {
   "cell_type": "code",
   "execution_count": 73,
   "metadata": {},
   "outputs": [],
   "source": [
    "column_list = list(owm_df.columns)\n",
    "i_df = pd.DataFrame(columns=column_list)\n",
    "\n",
    "for city_id in ls:\n",
    "    tester = owm_df.loc[owm_df['id'] == city_id]\n",
    "    i_df.append(tester, ignore_index=True)"
   ]
  },
  {
   "cell_type": "code",
   "execution_count": 74,
   "metadata": {},
   "outputs": [
    {
     "data": {
      "text/html": [
       "<div>\n",
       "<table border=\"1\" class=\"dataframe\">\n",
       "  <thead>\n",
       "    <tr style=\"text-align: right;\">\n",
       "      <th></th>\n",
       "      <th>id</th>\n",
       "      <th>nm</th>\n",
       "      <th>lat</th>\n",
       "      <th>lon</th>\n",
       "      <th>countryCode</th>\n",
       "    </tr>\n",
       "  </thead>\n",
       "  <tbody>\n",
       "  </tbody>\n",
       "</table>\n",
       "</div>"
      ],
      "text/plain": [
       "Empty DataFrame\n",
       "Columns: [id, nm, lat, lon, countryCode]\n",
       "Index: []"
      ]
     },
     "execution_count": 74,
     "metadata": {},
     "output_type": "execute_result"
    }
   ],
   "source": [
    "i_df"
   ]
  },
  {
   "cell_type": "code",
   "execution_count": 115,
   "metadata": {},
   "outputs": [
    {
     "data": {
      "text/html": [
       "<div>\n",
       "<table border=\"1\" class=\"dataframe\">\n",
       "  <thead>\n",
       "    <tr style=\"text-align: right;\">\n",
       "      <th></th>\n",
       "      <th>Country</th>\n",
       "      <th>City</th>\n",
       "      <th>Latitude</th>\n",
       "      <th>Longitude</th>\n",
       "    </tr>\n",
       "  </thead>\n",
       "  <tbody>\n",
       "    <tr>\n",
       "      <th>0</th>\n",
       "      <td>ad</td>\n",
       "      <td>andorra la vella</td>\n",
       "      <td>42.500000</td>\n",
       "      <td>1.516667</td>\n",
       "    </tr>\n",
       "    <tr>\n",
       "      <th>1</th>\n",
       "      <td>ad</td>\n",
       "      <td>canillo</td>\n",
       "      <td>42.566667</td>\n",
       "      <td>1.600000</td>\n",
       "    </tr>\n",
       "    <tr>\n",
       "      <th>2</th>\n",
       "      <td>ad</td>\n",
       "      <td>encamp</td>\n",
       "      <td>42.533333</td>\n",
       "      <td>1.583333</td>\n",
       "    </tr>\n",
       "    <tr>\n",
       "      <th>3</th>\n",
       "      <td>ad</td>\n",
       "      <td>la massana</td>\n",
       "      <td>42.550000</td>\n",
       "      <td>1.516667</td>\n",
       "    </tr>\n",
       "    <tr>\n",
       "      <th>4</th>\n",
       "      <td>ad</td>\n",
       "      <td>les escaldes</td>\n",
       "      <td>42.500000</td>\n",
       "      <td>1.533333</td>\n",
       "    </tr>\n",
       "  </tbody>\n",
       "</table>\n",
       "</div>"
      ],
      "text/plain": [
       "  Country              City   Latitude  Longitude\n",
       "0      ad  andorra la vella  42.500000   1.516667\n",
       "1      ad           canillo  42.566667   1.600000\n",
       "2      ad            encamp  42.533333   1.583333\n",
       "3      ad        la massana  42.550000   1.516667\n",
       "4      ad      les escaldes  42.500000   1.533333"
      ]
     },
     "execution_count": 115,
     "metadata": {},
     "output_type": "execute_result"
    }
   ],
   "source": [
    "data.head()"
   ]
  },
  {
   "cell_type": "code",
   "execution_count": 116,
   "metadata": {},
   "outputs": [
    {
     "data": {
      "text/plain": [
       "78.216666700000005"
      ]
     },
     "execution_count": 116,
     "metadata": {},
     "output_type": "execute_result"
    }
   ],
   "source": [
    "data['Latitude'].max()"
   ]
  },
  {
   "cell_type": "code",
   "execution_count": 117,
   "metadata": {},
   "outputs": [
    {
     "data": {
      "text/plain": [
       "-54.799999999999997"
      ]
     },
     "execution_count": 117,
     "metadata": {},
     "output_type": "execute_result"
    }
   ],
   "source": [
    "data['Latitude'].min()"
   ]
  },
  {
   "cell_type": "code",
   "execution_count": 118,
   "metadata": {},
   "outputs": [
    {
     "data": {
      "text/plain": [
       "179.316667"
      ]
     },
     "execution_count": 118,
     "metadata": {},
     "output_type": "execute_result"
    }
   ],
   "source": [
    "data['Longitude'].max()"
   ]
  },
  {
   "cell_type": "code",
   "execution_count": 119,
   "metadata": {},
   "outputs": [
    {
     "data": {
      "text/plain": [
       "-179.5"
      ]
     },
     "execution_count": 119,
     "metadata": {},
     "output_type": "execute_result"
    }
   ],
   "source": [
    "data['Longitude'].min()"
   ]
  },
  {
   "cell_type": "code",
   "execution_count": 161,
   "metadata": {},
   "outputs": [
    {
     "data": {
      "text/html": [
       "<div>\n",
       "<table border=\"1\" class=\"dataframe\">\n",
       "  <thead>\n",
       "    <tr style=\"text-align: right;\">\n",
       "      <th></th>\n",
       "      <th>Country</th>\n",
       "      <th>City</th>\n",
       "      <th>Latitude</th>\n",
       "      <th>Longitude</th>\n",
       "    </tr>\n",
       "  </thead>\n",
       "  <tbody>\n",
       "    <tr>\n",
       "      <th>0</th>\n",
       "      <td>ad</td>\n",
       "      <td>andorra la vella</td>\n",
       "      <td>42.500000</td>\n",
       "      <td>1.516667</td>\n",
       "    </tr>\n",
       "    <tr>\n",
       "      <th>1</th>\n",
       "      <td>ad</td>\n",
       "      <td>canillo</td>\n",
       "      <td>42.566667</td>\n",
       "      <td>1.600000</td>\n",
       "    </tr>\n",
       "    <tr>\n",
       "      <th>2</th>\n",
       "      <td>ad</td>\n",
       "      <td>encamp</td>\n",
       "      <td>42.533333</td>\n",
       "      <td>1.583333</td>\n",
       "    </tr>\n",
       "    <tr>\n",
       "      <th>3</th>\n",
       "      <td>ad</td>\n",
       "      <td>la massana</td>\n",
       "      <td>42.550000</td>\n",
       "      <td>1.516667</td>\n",
       "    </tr>\n",
       "    <tr>\n",
       "      <th>4</th>\n",
       "      <td>ad</td>\n",
       "      <td>les escaldes</td>\n",
       "      <td>42.500000</td>\n",
       "      <td>1.533333</td>\n",
       "    </tr>\n",
       "  </tbody>\n",
       "</table>\n",
       "</div>"
      ],
      "text/plain": [
       "  Country              City   Latitude  Longitude\n",
       "0      ad  andorra la vella  42.500000   1.516667\n",
       "1      ad           canillo  42.566667   1.600000\n",
       "2      ad            encamp  42.533333   1.583333\n",
       "3      ad        la massana  42.550000   1.516667\n",
       "4      ad      les escaldes  42.500000   1.533333"
      ]
     },
     "execution_count": 161,
     "metadata": {},
     "output_type": "execute_result"
    }
   ],
   "source": [
    "data.head()"
   ]
  },
  {
   "cell_type": "code",
   "execution_count": 159,
   "metadata": {},
   "outputs": [
    {
     "data": {
      "text/html": [
       "<div>\n",
       "<table border=\"1\" class=\"dataframe\">\n",
       "  <thead>\n",
       "    <tr style=\"text-align: right;\">\n",
       "      <th></th>\n",
       "      <th>Country</th>\n",
       "      <th>City</th>\n",
       "      <th>Latitude</th>\n",
       "      <th>Longitude</th>\n",
       "    </tr>\n",
       "  </thead>\n",
       "  <tbody>\n",
       "    <tr>\n",
       "      <th>0</th>\n",
       "      <td>ad</td>\n",
       "      <td>andorra la vella</td>\n",
       "      <td>42.500000</td>\n",
       "      <td>1.516667</td>\n",
       "    </tr>\n",
       "    <tr>\n",
       "      <th>1</th>\n",
       "      <td>ad</td>\n",
       "      <td>canillo</td>\n",
       "      <td>42.566667</td>\n",
       "      <td>1.600000</td>\n",
       "    </tr>\n",
       "    <tr>\n",
       "      <th>2</th>\n",
       "      <td>ad</td>\n",
       "      <td>encamp</td>\n",
       "      <td>42.533333</td>\n",
       "      <td>1.583333</td>\n",
       "    </tr>\n",
       "    <tr>\n",
       "      <th>3</th>\n",
       "      <td>ad</td>\n",
       "      <td>la massana</td>\n",
       "      <td>42.550000</td>\n",
       "      <td>1.516667</td>\n",
       "    </tr>\n",
       "    <tr>\n",
       "      <th>4</th>\n",
       "      <td>ad</td>\n",
       "      <td>les escaldes</td>\n",
       "      <td>42.500000</td>\n",
       "      <td>1.533333</td>\n",
       "    </tr>\n",
       "  </tbody>\n",
       "</table>\n",
       "</div>"
      ],
      "text/plain": [
       "  Country              City   Latitude  Longitude\n",
       "0      ad  andorra la vella  42.500000   1.516667\n",
       "1      ad           canillo  42.566667   1.600000\n",
       "2      ad            encamp  42.533333   1.583333\n",
       "3      ad        la massana  42.550000   1.516667\n",
       "4      ad      les escaldes  42.500000   1.533333"
      ]
     },
     "execution_count": 159,
     "metadata": {},
     "output_type": "execute_result"
    }
   ],
   "source": [
    "df = pd.DataFrame(data)\n",
    "df.head()"
   ]
  },
  {
   "cell_type": "code",
   "execution_count": 122,
   "metadata": {},
   "outputs": [
    {
     "data": {
      "text/html": [
       "<div>\n",
       "<table border=\"1\" class=\"dataframe\">\n",
       "  <thead>\n",
       "    <tr style=\"text-align: right;\">\n",
       "      <th></th>\n",
       "      <th>Country</th>\n",
       "      <th>City</th>\n",
       "      <th>Latitude</th>\n",
       "      <th>Longitude</th>\n",
       "    </tr>\n",
       "  </thead>\n",
       "  <tbody>\n",
       "  </tbody>\n",
       "</table>\n",
       "</div>"
      ],
      "text/plain": [
       "Empty DataFrame\n",
       "Columns: [Country, City, Latitude, Longitude]\n",
       "Index: []"
      ]
     },
     "execution_count": 122,
     "metadata": {},
     "output_type": "execute_result"
    }
   ],
   "source": [
    "df.loc[df['Latitude'] < -70,:]"
   ]
  },
  {
   "cell_type": "code",
   "execution_count": 123,
   "metadata": {},
   "outputs": [
    {
     "data": {
      "text/plain": [
       "479         comodoro rivadavia\n",
       "514              puerto madryn\n",
       "517                     rawson\n",
       "521               rio gallegos\n",
       "526    san carlos de bariloche\n",
       "Name: City, dtype: object"
      ]
     },
     "execution_count": 123,
     "metadata": {},
     "output_type": "execute_result"
    }
   ],
   "source": [
    "df.loc[(df['Latitude'] > -60) & (df['Latitude'] < -40),:]['City'].head()"
   ]
  },
  {
   "cell_type": "code",
   "execution_count": 124,
   "metadata": {},
   "outputs": [
    {
     "data": {
      "text/plain": [
       "array([-60, -40, -20,   0,  20,  40,  60,  80])"
      ]
     },
     "execution_count": 124,
     "metadata": {},
     "output_type": "execute_result"
    }
   ],
   "source": [
    "lat = np.arange(-60,100,20)\n",
    "lat"
   ]
  },
  {
   "cell_type": "code",
   "execution_count": 125,
   "metadata": {},
   "outputs": [
    {
     "name": "stdout",
     "output_type": "stream",
     "text": [
      "-60 to -40\n",
      "-40 to -20\n",
      "-20 to 0\n",
      "0 to 20\n",
      "20 to 40\n",
      "40 to 60\n",
      "60 to 80\n"
     ]
    }
   ],
   "source": [
    "for deg in range(1,len(lat)):\n",
    "    print('{} to {}'.format(lat[deg-1],lat[deg]))"
   ]
  },
  {
   "cell_type": "code",
   "execution_count": 126,
   "metadata": {},
   "outputs": [
    {
     "data": {
      "text/plain": [
       "['purranque',\n",
       " 'hokitika',\n",
       " 'darfield',\n",
       " 'milton',\n",
       " 'bulls',\n",
       " 'rakaia',\n",
       " 'dunedin',\n",
       " 'puerto varas',\n",
       " 'castro',\n",
       " 'hobart',\n",
       " 'burnie',\n",
       " 'pleasant point',\n",
       " 'himatangi',\n",
       " 'hanmer springs',\n",
       " 'havelock',\n",
       " 'waipawa',\n",
       " 'porirua',\n",
       " 'kaitangata',\n",
       " 'te horo',\n",
       " 'launceston']"
      ]
     },
     "execution_count": 126,
     "metadata": {},
     "output_type": "execute_result"
    }
   ],
   "source": [
    "low = list(df.loc[(df['Latitude'] > -60) & (df['Latitude'] <= -40),:]['City'])\n",
    "low_random = rd.sample(low, 20)\n",
    "low_random"
   ]
  },
  {
   "cell_type": "code",
   "execution_count": 127,
   "metadata": {},
   "outputs": [
    {
     "data": {
      "text/plain": [
       "560"
      ]
     },
     "execution_count": 127,
     "metadata": {},
     "output_type": "execute_result"
    }
   ],
   "source": [
    "num = 80\n",
    "city_ls = []\n",
    "lat = np.arange(-60,100,20)\n",
    "for deg in range(1,len(lat)):\n",
    "    range_ls = list(df.loc[(df['Latitude'] > lat[deg-1]) & (df['Latitude'] <= lat[deg]),:]['City'])\n",
    "    selections = rd.sample(range_ls, num)\n",
    "    city_ls = city_ls + selections\n",
    "\n",
    "len(city_ls)"
   ]
  },
  {
   "cell_type": "code",
   "execution_count": 128,
   "metadata": {},
   "outputs": [],
   "source": [
    "def ran_select(number):\n",
    "    range_num = int(number/7)\n",
    "    city_list = []\n",
    "    lat = np.arange(-60,100,20)\n",
    "    for deg in range(1,len(lat)):\n",
    "        range_ls = list(df.loc[(df['Latitude'] > lat[deg-1]) & (df['Latitude'] <= lat[deg]),:]['City'])\n",
    "        selections = rd.sample(range_ls, range_num)\n",
    "        city_list = city_list + selections\n",
    "    return city_list"
   ]
  },
  {
   "cell_type": "code",
   "execution_count": 142,
   "metadata": {},
   "outputs": [],
   "source": [
    "ls = ran_select(50)\n"
   ]
  },
  {
   "cell_type": "code",
   "execution_count": 157,
   "metadata": {},
   "outputs": [
    {
     "name": "stdout",
     "output_type": "stream",
     "text": [
      "-42.769201\n",
      "-41.383333\n",
      "-40.916667\n",
      "-43.483333\n",
      "City\n",
      "southbridge   -43.816667\n",
      "southbridge    42.075000\n",
      "Name: Latitude, dtype: float64\n",
      "-40.3\n",
      "-41.768011\n",
      "-34.7\n",
      "-22.627778\n",
      "-33.666667\n",
      "-20.1030556\n",
      "City\n",
      "nata   -20.216667\n",
      "nata     8.333333\n",
      "Name: Latitude, dtype: float64\n",
      "-24.45\n",
      "-21.366667\n",
      "-18.533333\n",
      "-7.95\n",
      "-5.116667\n",
      "-8.083333\n",
      "-6.178056\n",
      "-0.6155556\n",
      "-0.9333333\n",
      "City\n",
      "santo tomas    10.757730\n",
      "santo tomas    12.066667\n",
      "santo tomas   -14.445556\n",
      "santo tomas     8.185833\n",
      "santo tomas    17.399724\n",
      "santo tomas    14.183333\n",
      "santo tomas    14.992300\n",
      "santo tomas    16.082600\n",
      "santo tomas    15.754000\n",
      "santo tomas    13.640833\n",
      "Name: Latitude, dtype: float64\n",
      "14.096667\n",
      "City\n",
      "ipil    13.513200\n",
      "ipil    10.975800\n",
      "ipil     9.790700\n",
      "ipil     7.784444\n",
      "Name: Latitude, dtype: float64\n",
      "City\n",
      "boston    52.983333\n",
      "boston     7.871111\n",
      "boston    42.358333\n",
      "Name: Latitude, dtype: float64\n",
      "7.205676\n",
      "City\n",
      "san andres     6.903333\n",
      "san andres    12.584722\n",
      "san andres     6.811478\n",
      "san andres    16.966667\n",
      "san andres     8.600000\n",
      "san andres    13.261400\n",
      "san andres    14.050000\n",
      "san andres    15.722200\n",
      "san andres    14.003527\n",
      "san andres    13.322700\n",
      "Name: Latitude, dtype: float64\n",
      "4.8151\n",
      "37.8333333\n",
      "39.32\n",
      "28.686768\n",
      "38.7327778\n",
      "32.266043\n",
      "30.7541667\n",
      "City\n",
      "saginaw    43.419444\n",
      "saginaw    32.860000\n",
      "Name: Latitude, dtype: float64\n",
      "47.420159\n",
      "City\n",
      "krasnoarmeysk    53.847778\n",
      "krasnoarmeysk    56.100000\n",
      "krasnoarmeysk    51.023889\n",
      "krasnoarmeysk    48.281976\n",
      "Name: Latitude, dtype: float64\n",
      "44.55\n",
      "42.9405556\n",
      "City\n",
      "fundeni    45.533333\n",
      "fundeni    44.383333\n",
      "Name: Latitude, dtype: float64\n",
      "51.819079\n",
      "52.35236\n",
      "69.966667\n",
      "City\n",
      "ilinskiy    61.013459\n",
      "ilinskiy    47.997778\n",
      "ilinskiy    58.572170\n",
      "Name: Latitude, dtype: float64\n",
      "61.078451\n",
      "60.964444\n",
      "60.05\n",
      "63.416667\n",
      "65.7\n"
     ]
    }
   ],
   "source": [
    "city_selection = []\n",
    "\n",
    "for city in ls:\n",
    "    df2 = data.set_index('City')\n",
    "    latitude = df2.loc[city,'Latitude']\n",
    "#     city_data = {\n",
    "#         'City': city,\n",
    "#         'Latitude': latitude\n",
    "#     }\n",
    "#     city_selection.append(city_data)\n",
    "    print(latitude)"
   ]
  },
  {
   "cell_type": "code",
   "execution_count": 141,
   "metadata": {},
   "outputs": [
    {
     "data": {
      "text/html": [
       "<div>\n",
       "<table border=\"1\" class=\"dataframe\">\n",
       "  <thead>\n",
       "    <tr style=\"text-align: right;\">\n",
       "      <th></th>\n",
       "      <th>City</th>\n",
       "      <th>Latitude</th>\n",
       "    </tr>\n",
       "  </thead>\n",
       "  <tbody>\n",
       "    <tr>\n",
       "      <th>0</th>\n",
       "      <td>new norfolk</td>\n",
       "      <td>-42.7807</td>\n",
       "    </tr>\n",
       "    <tr>\n",
       "      <th>1</th>\n",
       "      <td>havelock</td>\n",
       "      <td>City\n",
       "havelock    44.433333\n",
       "havelock   -41.2833...</td>\n",
       "    </tr>\n",
       "    <tr>\n",
       "      <th>2</th>\n",
       "      <td>sanson</td>\n",
       "      <td>-40.2167</td>\n",
       "    </tr>\n",
       "    <tr>\n",
       "      <th>3</th>\n",
       "      <td>fairlie</td>\n",
       "      <td>City\n",
       "fairlie    55.75\n",
       "fairlie   -44.10\n",
       "Name: L...</td>\n",
       "    </tr>\n",
       "    <tr>\n",
       "      <th>4</th>\n",
       "      <td>ulverstone</td>\n",
       "      <td>-41.1603</td>\n",
       "    </tr>\n",
       "    <tr>\n",
       "      <th>5</th>\n",
       "      <td>takapau</td>\n",
       "      <td>-40.0333</td>\n",
       "    </tr>\n",
       "    <tr>\n",
       "      <th>6</th>\n",
       "      <td>la union</td>\n",
       "      <td>City\n",
       "la union   -40.283333\n",
       "la union     5.9743...</td>\n",
       "    </tr>\n",
       "    <tr>\n",
       "      <th>7</th>\n",
       "      <td>sao jose do rio preto</td>\n",
       "      <td>-20.8</td>\n",
       "    </tr>\n",
       "    <tr>\n",
       "      <th>8</th>\n",
       "      <td>alice</td>\n",
       "      <td>City\n",
       "alice    27.751944\n",
       "alice   -32.787493\n",
       "Nam...</td>\n",
       "    </tr>\n",
       "    <tr>\n",
       "      <th>9</th>\n",
       "      <td>muniz freire</td>\n",
       "      <td>-20.4667</td>\n",
       "    </tr>\n",
       "    <tr>\n",
       "      <th>10</th>\n",
       "      <td>patea</td>\n",
       "      <td>-39.7583</td>\n",
       "    </tr>\n",
       "    <tr>\n",
       "      <th>11</th>\n",
       "      <td>sao jose do calcado</td>\n",
       "      <td>-21.0333</td>\n",
       "    </tr>\n",
       "    <tr>\n",
       "      <th>12</th>\n",
       "      <td>clevelandia</td>\n",
       "      <td>-26.4</td>\n",
       "    </tr>\n",
       "    <tr>\n",
       "      <th>13</th>\n",
       "      <td>ruatoria</td>\n",
       "      <td>-37.8833</td>\n",
       "    </tr>\n",
       "    <tr>\n",
       "      <th>14</th>\n",
       "      <td>pacanga</td>\n",
       "      <td>-7.16667</td>\n",
       "    </tr>\n",
       "    <tr>\n",
       "      <th>15</th>\n",
       "      <td>pentecoste</td>\n",
       "      <td>-3.8</td>\n",
       "    </tr>\n",
       "    <tr>\n",
       "      <th>16</th>\n",
       "      <td>camamu</td>\n",
       "      <td>-13.95</td>\n",
       "    </tr>\n",
       "    <tr>\n",
       "      <th>17</th>\n",
       "      <td>manaira</td>\n",
       "      <td>-7.7</td>\n",
       "    </tr>\n",
       "    <tr>\n",
       "      <th>18</th>\n",
       "      <td>halalo</td>\n",
       "      <td>-13.35</td>\n",
       "    </tr>\n",
       "    <tr>\n",
       "      <th>19</th>\n",
       "      <td>axixa do tocantins</td>\n",
       "      <td>-5.55111</td>\n",
       "    </tr>\n",
       "    <tr>\n",
       "      <th>20</th>\n",
       "      <td>santo estevao</td>\n",
       "      <td>-12.4333</td>\n",
       "    </tr>\n",
       "    <tr>\n",
       "      <th>21</th>\n",
       "      <td>manjeshwar</td>\n",
       "      <td>12.7</td>\n",
       "    </tr>\n",
       "    <tr>\n",
       "      <th>22</th>\n",
       "      <td>san jose</td>\n",
       "      <td>City\n",
       "san jose   -17.850000\n",
       "san jose     5.0016...</td>\n",
       "    </tr>\n",
       "    <tr>\n",
       "      <th>23</th>\n",
       "      <td>la guama</td>\n",
       "      <td>14.8833</td>\n",
       "    </tr>\n",
       "    <tr>\n",
       "      <th>24</th>\n",
       "      <td>thanh hoa</td>\n",
       "      <td>19.8</td>\n",
       "    </tr>\n",
       "    <tr>\n",
       "      <th>25</th>\n",
       "      <td>san agustin</td>\n",
       "      <td>City\n",
       "san agustin     1.878629\n",
       "san agustin    1...</td>\n",
       "    </tr>\n",
       "    <tr>\n",
       "      <th>26</th>\n",
       "      <td>hacienda</td>\n",
       "      <td>15.936</td>\n",
       "    </tr>\n",
       "    <tr>\n",
       "      <th>27</th>\n",
       "      <td>bongor</td>\n",
       "      <td>10.2806</td>\n",
       "    </tr>\n",
       "    <tr>\n",
       "      <th>28</th>\n",
       "      <td>sangod</td>\n",
       "      <td>24.9167</td>\n",
       "    </tr>\n",
       "    <tr>\n",
       "      <th>29</th>\n",
       "      <td>saint pete beach</td>\n",
       "      <td>27.725</td>\n",
       "    </tr>\n",
       "    <tr>\n",
       "      <th>30</th>\n",
       "      <td>ocean city</td>\n",
       "      <td>39.2775</td>\n",
       "    </tr>\n",
       "    <tr>\n",
       "      <th>31</th>\n",
       "      <td>winter garden</td>\n",
       "      <td>28.565</td>\n",
       "    </tr>\n",
       "    <tr>\n",
       "      <th>32</th>\n",
       "      <td>pundri</td>\n",
       "      <td>29.75</td>\n",
       "    </tr>\n",
       "    <tr>\n",
       "      <th>33</th>\n",
       "      <td>lancaster</td>\n",
       "      <td>City\n",
       "lancaster    54.066667\n",
       "lancaster    34.69...</td>\n",
       "    </tr>\n",
       "    <tr>\n",
       "      <th>34</th>\n",
       "      <td>waianae</td>\n",
       "      <td>21.4447</td>\n",
       "    </tr>\n",
       "    <tr>\n",
       "      <th>35</th>\n",
       "      <td>mako</td>\n",
       "      <td>46.2167</td>\n",
       "    </tr>\n",
       "    <tr>\n",
       "      <th>36</th>\n",
       "      <td>dobrin</td>\n",
       "      <td>47.2833</td>\n",
       "    </tr>\n",
       "    <tr>\n",
       "      <th>37</th>\n",
       "      <td>brook park</td>\n",
       "      <td>41.3983</td>\n",
       "    </tr>\n",
       "    <tr>\n",
       "      <th>38</th>\n",
       "      <td>baiculesti</td>\n",
       "      <td>45.0667</td>\n",
       "    </tr>\n",
       "    <tr>\n",
       "      <th>39</th>\n",
       "      <td>murovani kurylivtsi</td>\n",
       "      <td>48.7235</td>\n",
       "    </tr>\n",
       "    <tr>\n",
       "      <th>40</th>\n",
       "      <td>horka nad moravou</td>\n",
       "      <td>49.6389</td>\n",
       "    </tr>\n",
       "    <tr>\n",
       "      <th>41</th>\n",
       "      <td>veroli</td>\n",
       "      <td>41.6833</td>\n",
       "    </tr>\n",
       "    <tr>\n",
       "      <th>42</th>\n",
       "      <td>skalistyy</td>\n",
       "      <td>69.2551</td>\n",
       "    </tr>\n",
       "    <tr>\n",
       "      <th>43</th>\n",
       "      <td>snezhnogorsk</td>\n",
       "      <td>City\n",
       "snezhnogorsk    68.093056\n",
       "snezhnogorsk   ...</td>\n",
       "    </tr>\n",
       "    <tr>\n",
       "      <th>44</th>\n",
       "      <td>ust-tsilma</td>\n",
       "      <td>65.441</td>\n",
       "    </tr>\n",
       "    <tr>\n",
       "      <th>45</th>\n",
       "      <td>cheuskiny</td>\n",
       "      <td>61.1167</td>\n",
       "    </tr>\n",
       "    <tr>\n",
       "      <th>46</th>\n",
       "      <td>kuzmolovskiy</td>\n",
       "      <td>60.1092</td>\n",
       "    </tr>\n",
       "    <tr>\n",
       "      <th>47</th>\n",
       "      <td>nyurba</td>\n",
       "      <td>63.2842</td>\n",
       "    </tr>\n",
       "    <tr>\n",
       "      <th>48</th>\n",
       "      <td>oppdal</td>\n",
       "      <td>62.6</td>\n",
       "    </tr>\n",
       "  </tbody>\n",
       "</table>\n",
       "</div>"
      ],
      "text/plain": [
       "                     City                                           Latitude\n",
       "0             new norfolk                                           -42.7807\n",
       "1                havelock  City\n",
       "havelock    44.433333\n",
       "havelock   -41.2833...\n",
       "2                  sanson                                           -40.2167\n",
       "3                 fairlie  City\n",
       "fairlie    55.75\n",
       "fairlie   -44.10\n",
       "Name: L...\n",
       "4              ulverstone                                           -41.1603\n",
       "5                 takapau                                           -40.0333\n",
       "6                la union  City\n",
       "la union   -40.283333\n",
       "la union     5.9743...\n",
       "7   sao jose do rio preto                                              -20.8\n",
       "8                   alice  City\n",
       "alice    27.751944\n",
       "alice   -32.787493\n",
       "Nam...\n",
       "9            muniz freire                                           -20.4667\n",
       "10                  patea                                           -39.7583\n",
       "11    sao jose do calcado                                           -21.0333\n",
       "12            clevelandia                                              -26.4\n",
       "13               ruatoria                                           -37.8833\n",
       "14                pacanga                                           -7.16667\n",
       "15             pentecoste                                               -3.8\n",
       "16                 camamu                                             -13.95\n",
       "17                manaira                                               -7.7\n",
       "18                 halalo                                             -13.35\n",
       "19     axixa do tocantins                                           -5.55111\n",
       "20          santo estevao                                           -12.4333\n",
       "21             manjeshwar                                               12.7\n",
       "22               san jose  City\n",
       "san jose   -17.850000\n",
       "san jose     5.0016...\n",
       "23               la guama                                            14.8833\n",
       "24              thanh hoa                                               19.8\n",
       "25            san agustin  City\n",
       "san agustin     1.878629\n",
       "san agustin    1...\n",
       "26               hacienda                                             15.936\n",
       "27                 bongor                                            10.2806\n",
       "28                 sangod                                            24.9167\n",
       "29       saint pete beach                                             27.725\n",
       "30             ocean city                                            39.2775\n",
       "31          winter garden                                             28.565\n",
       "32                 pundri                                              29.75\n",
       "33              lancaster  City\n",
       "lancaster    54.066667\n",
       "lancaster    34.69...\n",
       "34                waianae                                            21.4447\n",
       "35                   mako                                            46.2167\n",
       "36                 dobrin                                            47.2833\n",
       "37             brook park                                            41.3983\n",
       "38             baiculesti                                            45.0667\n",
       "39    murovani kurylivtsi                                            48.7235\n",
       "40      horka nad moravou                                            49.6389\n",
       "41                 veroli                                            41.6833\n",
       "42              skalistyy                                            69.2551\n",
       "43           snezhnogorsk  City\n",
       "snezhnogorsk    68.093056\n",
       "snezhnogorsk   ...\n",
       "44             ust-tsilma                                             65.441\n",
       "45              cheuskiny                                            61.1167\n",
       "46           kuzmolovskiy                                            60.1092\n",
       "47                 nyurba                                            63.2842\n",
       "48                 oppdal                                               62.6"
      ]
     },
     "execution_count": 141,
     "metadata": {},
     "output_type": "execute_result"
    }
   ],
   "source": [
    "pd.DataFrame(city_selection)"
   ]
  },
  {
   "cell_type": "code",
   "execution_count": 144,
   "metadata": {},
   "outputs": [
    {
     "name": "stdout",
     "output_type": "stream",
     "text": [
      "26194   -40.166667\n",
      "Name: Latitude, dtype: float64\n"
     ]
    }
   ],
   "source": [
    "print(df.loc[df['City'] == 'bulls']['Latitude'])"
   ]
  },
  {
   "cell_type": "code",
   "execution_count": 132,
   "metadata": {},
   "outputs": [
    {
     "data": {
      "text/plain": [
       "['comodoro rivadavia',\n",
       " 'puerto madryn',\n",
       " 'rawson',\n",
       " 'rio gallegos',\n",
       " 'san carlos de bariloche',\n",
       " 'trelew',\n",
       " 'ushuaia',\n",
       " 'viedma',\n",
       " 'burnie',\n",
       " 'devonport',\n",
       " 'hobart',\n",
       " 'launceston',\n",
       " 'new norfolk',\n",
       " 'ulverstone',\n",
       " 'ancud',\n",
       " 'calbuco',\n",
       " 'castro',\n",
       " 'coihaique',\n",
       " 'la union',\n",
       " 'osorno',\n",
       " 'puerto montt',\n",
       " 'puerto varas',\n",
       " 'punta arenas',\n",
       " 'purranque',\n",
       " 'rio bueno',\n",
       " 'amberley',\n",
       " 'balclutha',\n",
       " 'bluff',\n",
       " 'brightwater',\n",
       " 'bulls',\n",
       " 'burnham',\n",
       " 'christchurch',\n",
       " 'clyde',\n",
       " 'darfield',\n",
       " 'dobson',\n",
       " 'dunedin',\n",
       " 'edendale',\n",
       " 'fairlie',\n",
       " 'foxton',\n",
       " 'greymouth',\n",
       " 'hanmer springs',\n",
       " 'havelock',\n",
       " 'himatangi',\n",
       " 'hokitika',\n",
       " 'invercargill',\n",
       " 'kaitangata',\n",
       " 'karamea',\n",
       " 'leeston',\n",
       " 'levin',\n",
       " 'lincoln',\n",
       " 'lower hutt',\n",
       " 'mapua',\n",
       " 'masterton',\n",
       " 'methven',\n",
       " 'milton',\n",
       " 'murchison',\n",
       " 'nelson',\n",
       " 'otaki',\n",
       " 'otautau',\n",
       " 'outram',\n",
       " 'oxford',\n",
       " 'palmerston north',\n",
       " 'pareora',\n",
       " 'pleasant point',\n",
       " 'porirua',\n",
       " 'rakaia',\n",
       " 'ranfurly',\n",
       " 'reefton',\n",
       " 'riverton',\n",
       " 'riwaka',\n",
       " 'rolleston',\n",
       " 'rongotea',\n",
       " 'sanson',\n",
       " 'seddon',\n",
       " 'sefton',\n",
       " 'southbridge',\n",
       " 'takaka',\n",
       " 'takapau',\n",
       " 'te anau',\n",
       " 'te horo',\n",
       " 'timaru',\n",
       " 'tokomaru',\n",
       " 'tuatapere',\n",
       " 'waikuku',\n",
       " 'waipawa',\n",
       " 'waitati',\n",
       " 'wakefield',\n",
       " 'wallacetown',\n",
       " 'wanaka',\n",
       " 'wellington',\n",
       " 'westport',\n",
       " 'winton',\n",
       " 'woodend',\n",
       " 'wyndham']"
      ]
     },
     "execution_count": 132,
     "metadata": {},
     "output_type": "execute_result"
    }
   ],
   "source": [
    "list(df.loc[(df['Latitude'] > -60) & (df['Latitude'] <= -40),:]['City'])"
   ]
  },
  {
   "cell_type": "code",
   "execution_count": 179,
   "metadata": {},
   "outputs": [
    {
     "data": {
      "text/html": [
       "<div>\n",
       "<table border=\"1\" class=\"dataframe\">\n",
       "  <thead>\n",
       "    <tr style=\"text-align: right;\">\n",
       "      <th></th>\n",
       "      <th>Latitude</th>\n",
       "    </tr>\n",
       "    <tr>\n",
       "      <th>City</th>\n",
       "      <th></th>\n",
       "    </tr>\n",
       "  </thead>\n",
       "  <tbody>\n",
       "    <tr>\n",
       "      <th>a</th>\n",
       "      <td>[63.966667]</td>\n",
       "    </tr>\n",
       "    <tr>\n",
       "      <th>a coruna</th>\n",
       "      <td>[43.366609]</td>\n",
       "    </tr>\n",
       "    <tr>\n",
       "      <th>a dos cunhados</th>\n",
       "      <td>[39.15237]</td>\n",
       "    </tr>\n",
       "    <tr>\n",
       "      <th>aabenraa</th>\n",
       "      <td>[55.036217]</td>\n",
       "    </tr>\n",
       "    <tr>\n",
       "      <th>aabybro</th>\n",
       "      <td>[57.15]</td>\n",
       "    </tr>\n",
       "  </tbody>\n",
       "</table>\n",
       "</div>"
      ],
      "text/plain": [
       "                   Latitude\n",
       "City                       \n",
       "a               [63.966667]\n",
       "a coruna        [43.366609]\n",
       "a dos cunhados   [39.15237]\n",
       "aabenraa        [55.036217]\n",
       "aabybro             [57.15]"
      ]
     },
     "execution_count": 179,
     "metadata": {},
     "output_type": "execute_result"
    }
   ],
   "source": [
    "pd.DataFrame(df['Latitude'].groupby(df['City']).unique()).head()\n",
    "                      "
   ]
  },
  {
   "cell_type": "code",
   "execution_count": 176,
   "metadata": {},
   "outputs": [
    {
     "data": {
      "text/plain": [
       "Country      46832\n",
       "City         46831\n",
       "Latitude     46832\n",
       "Longitude    46832\n",
       "dtype: int64"
      ]
     },
     "execution_count": 176,
     "metadata": {},
     "output_type": "execute_result"
    }
   ],
   "source": [
    "data.count()"
   ]
  },
  {
   "cell_type": "code",
   "execution_count": null,
   "metadata": {},
   "outputs": [],
   "source": []
  }
 ],
 "metadata": {
  "kernelspec": {
   "display_name": "Python (pythondata)",
   "language": "python",
   "name": "pythondata"
  },
  "language_info": {
   "codemirror_mode": {
    "name": "ipython",
    "version": 3
   },
   "file_extension": ".py",
   "mimetype": "text/x-python",
   "name": "python",
   "nbconvert_exporter": "python",
   "pygments_lexer": "ipython3",
   "version": "3.4.5"
  }
 },
 "nbformat": 4,
 "nbformat_minor": 2
}
